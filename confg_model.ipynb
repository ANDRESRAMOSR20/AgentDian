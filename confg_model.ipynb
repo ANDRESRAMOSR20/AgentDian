{
 "cells": [
  {
   "metadata": {
    "ExecuteTime": {
     "end_time": "2025-02-04T13:23:46.032462Z",
     "start_time": "2025-02-04T13:23:33.323214Z"
    }
   },
   "cell_type": "code",
   "source": [
    "from langchain_ollama import ChatOllama\n",
    "\n",
    "llm = ChatOllama(model=\"llama3.2:1b\")\n",
    "\n",
    "llm.invoke(\"como puedo conseguir un cuerpo mas saludable?\")"
   ],
   "id": "fb732d457988e8d4",
   "outputs": [
    {
     "data": {
      "text/plain": [
       "AIMessage(content='Conseguir un cuerpo más saludable es un objetivo común para muchas personas. Aquí te presento algunas sugerencias para lograrlo:\\n\\n1. **Establece metas realistas**: Define objetivos específicos, medibles y alcanzables para ti mismo. Por ejemplo, si tu meta es perder peso, establece una pérdida de 0,5 a 1 kg por semana.\\n2. **Come con cuidado**: Come alimentos integrales, como frutas, verduras, granos enteros y proteínas magras. Evita los alimentos procesados y ricos en azúcares y grasas.\\n3. **Hidrátate adecuadamente**: Bebe al menos 8 vasos de agua al día para mantener tu cuerpo hidratado. También es importante beber antes, durante y después de las entrenzamientos para mantener el hidratación.\\n4. **Haz ejercicio regularmente**: El ejercicio no solo mejora tu salud física, sino que también puede aumentar tus niveles de energía y mejorar tu estado de ánimo. Considera actividad física moderada a intensa según su nivel de actividad física.\\n5. **Duerme lo suficiente**: El sueño es importante para el repair y la regeneración corporal. Asegúrate de dormir entre 7 y 9 horas cada noche.\\n6. **Reduce el estrés**: El estrés puede afectar negativamente tu salud física y mental. Encuentra maneras de reducir el estrés, como la meditación, el yoga o la lectura.\\n7. **Mantén una rutina de alimentos saludables**: Asegúrate de comer alimentos nutritivos regularmente para mantener un peso saludable y evitar el overeating.\\n8. **Consulta a un profesional**: Si tienes problemas de salud o necesitas ayuda para alcanzar tus objetivos, considera consultar a un nutricionista o un entrenador personalizado.\\n\\nRecuerda que la pérdida de peso y el aumento del cuerpo saludable son procesos a largo plazo. Sé paciente y consistente, y no te desanimes por los obstáculos que puedas enfrentar.\\n\\nEn cuanto a las técnicas específicas para mejorar tu apetito y controlar el hambre, aquí te presento algunas sugerencias:\\n\\n* **Practica la meditación**: La meditación puede ayudarte a reducir el estrés y mejorar tu estado de ánimo.\\n* **Come con frecuencia**: Come varias veces al día, pero hazlo de manera regular y rítmica para mantener un apetito estable.\\n* **Haz ejercicio en pareja**: El ejercicio con alguien que te gusta puede aumentar tus niveles de energía y mejorar tu estado de ánimo.\\n* **No te saltes comidas**: Saltear comidas puede llevar a una disminución de la ingesta calórica y un aumento del apetito después de las comidas.\\n* **Come con alimentos ricos en fibra**: Los alimentos ricos en fibra, como las frutas y las verduras, pueden ayudarte a sentirte lleno durante más tiempo.\\n\\nRecuerda que cada persona es única, y lo que funciona para una persona puede no funcionar para otra. Lo importante es encontrar lo que funcione mejor para ti y seguir adelante con consistencia y paciencia.', additional_kwargs={}, response_metadata={'model': 'llama3.2:1b', 'created_at': '2025-02-04T13:23:46.0287305Z', 'done': True, 'done_reason': 'stop', 'total_duration': 11911380500, 'load_duration': 65690400, 'prompt_eval_count': 34, 'prompt_eval_duration': 386000000, 'eval_count': 714, 'eval_duration': 11453000000, 'message': Message(role='assistant', content='', images=None, tool_calls=None)}, id='run-8236c321-988b-47e3-ab81-63e3ef53715f-0', usage_metadata={'input_tokens': 34, 'output_tokens': 714, 'total_tokens': 748})"
      ]
     },
     "execution_count": 7,
     "metadata": {},
     "output_type": "execute_result"
    }
   ],
   "execution_count": 7
  },
  {
   "metadata": {
    "ExecuteTime": {
     "end_time": "2025-02-04T14:00:46.799890Z",
     "start_time": "2025-02-04T14:00:46.277891Z"
    }
   },
   "cell_type": "code",
   "source": [
    "from langchain_ollama import OllamaEmbeddings\n",
    "embeddings = OllamaEmbeddings(model=\"llama3\")"
   ],
   "id": "e91f835123007fbe",
   "outputs": [],
   "execution_count": 11
  },
  {
   "metadata": {
    "ExecuteTime": {
     "end_time": "2025-02-04T13:23:50.938200Z",
     "start_time": "2025-02-04T13:23:49.655929Z"
    }
   },
   "cell_type": "code",
   "source": [
    "for chunk in llm.stream(\"The first man on the moon was ...\"):\n",
    "    print(chunk, end=\"|\", flush=True)"
   ],
   "id": "b29466299b91a9d8",
   "outputs": [
    {
     "name": "stdout",
     "output_type": "stream",
     "text": [
      "content='Neil' additional_kwargs={} response_metadata={} id='run-b8e55873-bd83-47d6-96cc-64b8bcb83690'|content=' Armstrong' additional_kwargs={} response_metadata={} id='run-b8e55873-bd83-47d6-96cc-64b8bcb83690'|content=' became' additional_kwargs={} response_metadata={} id='run-b8e55873-bd83-47d6-96cc-64b8bcb83690'|content=' the' additional_kwargs={} response_metadata={} id='run-b8e55873-bd83-47d6-96cc-64b8bcb83690'|content=' first' additional_kwargs={} response_metadata={} id='run-b8e55873-bd83-47d6-96cc-64b8bcb83690'|content=' person' additional_kwargs={} response_metadata={} id='run-b8e55873-bd83-47d6-96cc-64b8bcb83690'|content=' to' additional_kwargs={} response_metadata={} id='run-b8e55873-bd83-47d6-96cc-64b8bcb83690'|content=' set' additional_kwargs={} response_metadata={} id='run-b8e55873-bd83-47d6-96cc-64b8bcb83690'|content=' foot' additional_kwargs={} response_metadata={} id='run-b8e55873-bd83-47d6-96cc-64b8bcb83690'|content=' on' additional_kwargs={} response_metadata={} id='run-b8e55873-bd83-47d6-96cc-64b8bcb83690'|content=' the' additional_kwargs={} response_metadata={} id='run-b8e55873-bd83-47d6-96cc-64b8bcb83690'|content=' moon' additional_kwargs={} response_metadata={} id='run-b8e55873-bd83-47d6-96cc-64b8bcb83690'|content=' on' additional_kwargs={} response_metadata={} id='run-b8e55873-bd83-47d6-96cc-64b8bcb83690'|content=' July' additional_kwargs={} response_metadata={} id='run-b8e55873-bd83-47d6-96cc-64b8bcb83690'|content=' ' additional_kwargs={} response_metadata={} id='run-b8e55873-bd83-47d6-96cc-64b8bcb83690'|content='20' additional_kwargs={} response_metadata={} id='run-b8e55873-bd83-47d6-96cc-64b8bcb83690'|content=',' additional_kwargs={} response_metadata={} id='run-b8e55873-bd83-47d6-96cc-64b8bcb83690'|content=' ' additional_kwargs={} response_metadata={} id='run-b8e55873-bd83-47d6-96cc-64b8bcb83690'|content='196' additional_kwargs={} response_metadata={} id='run-b8e55873-bd83-47d6-96cc-64b8bcb83690'|content='9' additional_kwargs={} response_metadata={} id='run-b8e55873-bd83-47d6-96cc-64b8bcb83690'|content='.' additional_kwargs={} response_metadata={} id='run-b8e55873-bd83-47d6-96cc-64b8bcb83690'|content=' During' additional_kwargs={} response_metadata={} id='run-b8e55873-bd83-47d6-96cc-64b8bcb83690'|content=' his' additional_kwargs={} response_metadata={} id='run-b8e55873-bd83-47d6-96cc-64b8bcb83690'|content=' famous' additional_kwargs={} response_metadata={} id='run-b8e55873-bd83-47d6-96cc-64b8bcb83690'|content=' mission' additional_kwargs={} response_metadata={} id='run-b8e55873-bd83-47d6-96cc-64b8bcb83690'|content=',' additional_kwargs={} response_metadata={} id='run-b8e55873-bd83-47d6-96cc-64b8bcb83690'|content=' he' additional_kwargs={} response_metadata={} id='run-b8e55873-bd83-47d6-96cc-64b8bcb83690'|content=' famously' additional_kwargs={} response_metadata={} id='run-b8e55873-bd83-47d6-96cc-64b8bcb83690'|content=' said' additional_kwargs={} response_metadata={} id='run-b8e55873-bd83-47d6-96cc-64b8bcb83690'|content=',' additional_kwargs={} response_metadata={} id='run-b8e55873-bd83-47d6-96cc-64b8bcb83690'|content=' \"' additional_kwargs={} response_metadata={} id='run-b8e55873-bd83-47d6-96cc-64b8bcb83690'|content='That' additional_kwargs={} response_metadata={} id='run-b8e55873-bd83-47d6-96cc-64b8bcb83690'|content=\"'s\" additional_kwargs={} response_metadata={} id='run-b8e55873-bd83-47d6-96cc-64b8bcb83690'|content=' one' additional_kwargs={} response_metadata={} id='run-b8e55873-bd83-47d6-96cc-64b8bcb83690'|content=' small' additional_kwargs={} response_metadata={} id='run-b8e55873-bd83-47d6-96cc-64b8bcb83690'|content=' step' additional_kwargs={} response_metadata={} id='run-b8e55873-bd83-47d6-96cc-64b8bcb83690'|content=' for' additional_kwargs={} response_metadata={} id='run-b8e55873-bd83-47d6-96cc-64b8bcb83690'|content=' man' additional_kwargs={} response_metadata={} id='run-b8e55873-bd83-47d6-96cc-64b8bcb83690'|content=',' additional_kwargs={} response_metadata={} id='run-b8e55873-bd83-47d6-96cc-64b8bcb83690'|content=' one' additional_kwargs={} response_metadata={} id='run-b8e55873-bd83-47d6-96cc-64b8bcb83690'|content=' giant' additional_kwargs={} response_metadata={} id='run-b8e55873-bd83-47d6-96cc-64b8bcb83690'|content=' leap' additional_kwargs={} response_metadata={} id='run-b8e55873-bd83-47d6-96cc-64b8bcb83690'|content=' for' additional_kwargs={} response_metadata={} id='run-b8e55873-bd83-47d6-96cc-64b8bcb83690'|content=' mankind' additional_kwargs={} response_metadata={} id='run-b8e55873-bd83-47d6-96cc-64b8bcb83690'|content='\"' additional_kwargs={} response_metadata={} id='run-b8e55873-bd83-47d6-96cc-64b8bcb83690'|content=' as' additional_kwargs={} response_metadata={} id='run-b8e55873-bd83-47d6-96cc-64b8bcb83690'|content=' he' additional_kwargs={} response_metadata={} id='run-b8e55873-bd83-47d6-96cc-64b8bcb83690'|content=' stepped' additional_kwargs={} response_metadata={} id='run-b8e55873-bd83-47d6-96cc-64b8bcb83690'|content=' off' additional_kwargs={} response_metadata={} id='run-b8e55873-bd83-47d6-96cc-64b8bcb83690'|content=' the' additional_kwargs={} response_metadata={} id='run-b8e55873-bd83-47d6-96cc-64b8bcb83690'|content=' lunar' additional_kwargs={} response_metadata={} id='run-b8e55873-bd83-47d6-96cc-64b8bcb83690'|content=' module' additional_kwargs={} response_metadata={} id='run-b8e55873-bd83-47d6-96cc-64b8bcb83690'|content=' Eagle' additional_kwargs={} response_metadata={} id='run-b8e55873-bd83-47d6-96cc-64b8bcb83690'|content=' onto' additional_kwargs={} response_metadata={} id='run-b8e55873-bd83-47d6-96cc-64b8bcb83690'|content=' the' additional_kwargs={} response_metadata={} id='run-b8e55873-bd83-47d6-96cc-64b8bcb83690'|content=' moon' additional_kwargs={} response_metadata={} id='run-b8e55873-bd83-47d6-96cc-64b8bcb83690'|content=\"'s\" additional_kwargs={} response_metadata={} id='run-b8e55873-bd83-47d6-96cc-64b8bcb83690'|content=' surface' additional_kwargs={} response_metadata={} id='run-b8e55873-bd83-47d6-96cc-64b8bcb83690'|content='.' additional_kwargs={} response_metadata={} id='run-b8e55873-bd83-47d6-96cc-64b8bcb83690'|content='' additional_kwargs={} response_metadata={'model': 'llama3.2:1b', 'created_at': '2025-02-04T13:23:50.9338238Z', 'done': True, 'done_reason': 'stop', 'total_duration': 1277894800, 'load_duration': 45632500, 'prompt_eval_count': 33, 'prompt_eval_duration': 39000000, 'eval_count': 60, 'eval_duration': 1191000000, 'message': Message(role='assistant', content='', images=None, tool_calls=None)} id='run-b8e55873-bd83-47d6-96cc-64b8bcb83690' usage_metadata={'input_tokens': 33, 'output_tokens': 60, 'total_tokens': 93}|"
     ]
    }
   ],
   "execution_count": 8
  }
 ],
 "metadata": {
  "kernelspec": {
   "display_name": "Python 3",
   "language": "python",
   "name": "python3"
  },
  "language_info": {
   "codemirror_mode": {
    "name": "ipython",
    "version": 2
   },
   "file_extension": ".py",
   "mimetype": "text/x-python",
   "name": "python",
   "nbconvert_exporter": "python",
   "pygments_lexer": "ipython2",
   "version": "2.7.6"
  }
 },
 "nbformat": 4,
 "nbformat_minor": 5
}
