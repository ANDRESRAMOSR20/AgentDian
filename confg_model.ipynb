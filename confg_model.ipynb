{
 "cells": [
  {
   "metadata": {
    "ExecuteTime": {
     "end_time": "2025-02-10T00:06:34.548996Z",
     "start_time": "2025-02-10T00:05:56.691985Z"
    }
   },
   "cell_type": "code",
   "source": [
    "from langchain_ollama import ChatOllama\n",
    "\n",
    "llm = ChatOllama(model=\"hf.co/bartowski/Meta-Llama-3.1-8B-Instruct-GGUF:IQ4_NL\")\n",
    "\n",
    "llm.invoke(\"Cual es mayor 9.11 o 9.9 y porque?\")"
   ],
   "id": "fb732d457988e8d4",
   "outputs": [
    {
     "data": {
      "text/plain": [
       "AIMessage(content='<think>\\nPrimero, observo que ambos números tienen la misma parte entera, que es 9.\\n\\nLuego, comparo las partes decimales: 0.11 versus 0.9.\\n\\nComo 0.9 es mayor que 0.11, concluyo que 9.9 es el número mayor.\\n</think>\\n\\nPara determinar cuál de los dos números es mayor entre **9.11** y **9.9**, sigamos estos pasos:\\n\\n1. **Comparar la parte entera:**\\n   - Ambos números tienen la misma parte entera, que es **9**.\\n\\n2. **Comparar la parte decimal:**\\n   - **9.11** tiene una parte decimal de **0.11**.\\n   - **9.9** tiene una parte decimal de **0.90** (ya que 0.9 es lo mismo que 0.90).\\n\\n3. **Analizar las partes decimales:**\\n   - **0.90** es mayor que **0.11**.\\n\\nComo la parte entera es igual y la parte decimal de **9.9** es mayor, concluimos que:\\n\\n\\\\[\\n\\\\boxed{9.9 \\\\text{ es mayor que } 9.11}\\n\\\\]', additional_kwargs={}, response_metadata={'model': 'hf.co/bartowski/DeepSeek-R1-Distill-Qwen-7B-GGUF:IQ4_XS', 'created_at': '2025-02-10T00:06:34.5085957Z', 'done': True, 'done_reason': 'stop', 'total_duration': 36010741600, 'load_duration': 6837249300, 'prompt_eval_count': 20, 'prompt_eval_duration': 1195000000, 'eval_count': 275, 'eval_duration': 27962000000, 'message': Message(role='assistant', content='', images=None, tool_calls=None)}, id='run-4236e6bb-06a6-4e7d-b89b-83074079cfe3-0', usage_metadata={'input_tokens': 20, 'output_tokens': 275, 'total_tokens': 295})"
      ]
     },
     "execution_count": 1,
     "metadata": {},
     "output_type": "execute_result"
    }
   ],
   "execution_count": 1
  },
  {
   "metadata": {},
   "cell_type": "code",
   "source": [
    "from langchain_huggingface import HuggingFaceEmbeddings\n",
    "embeddings = HuggingFaceEmbeddings(model_name=\"sentence-transformers/all-mpnet-base-v2\")"
   ],
   "id": "531e15b6e4505080",
   "outputs": [],
   "execution_count": null
  }
 ],
 "metadata": {
  "kernelspec": {
   "display_name": "Python 3",
   "language": "python",
   "name": "python3"
  },
  "language_info": {
   "codemirror_mode": {
    "name": "ipython",
    "version": 2
   },
   "file_extension": ".py",
   "mimetype": "text/x-python",
   "name": "python",
   "nbconvert_exporter": "python",
   "pygments_lexer": "ipython2",
   "version": "2.7.6"
  }
 },
 "nbformat": 4,
 "nbformat_minor": 5
}
