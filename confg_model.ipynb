{
 "cells": [
  {
   "metadata": {
    "ExecuteTime": {
     "end_time": "2025-02-08T15:17:52.070120Z",
     "start_time": "2025-02-08T15:17:44.404998Z"
    }
   },
   "cell_type": "code",
   "source": [
    "from langchain_ollama import ChatOllama\n",
    "\n",
    "llm = ChatOllama(model=\"hf.co/bartowski/Llama-3.2-1B-Instruct-GGUF:Q4_0\")\n",
    "\n",
    "llm.invoke(\"como puedo conseguir un cuerpo mas saludable?\")"
   ],
   "id": "fb732d457988e8d4",
   "outputs": [
    {
     "data": {
      "text/plain": [
       "AIMessage(content='Conseguir un cuerpo más saludable es un objetivo común para muchas personas. Aquí te dejo algunas sugerencias que podrían ayudarte a lograrlo:\\n\\n1. **Establece metas realistas**: Antes de empezar cualquier programa de entrenamiento o dieta, es importante establecer metas realistas y alcanzables. Lo que puede parecer un objetivo imposible al principio puede ser superado con el tiempo y la práctica.\\n\\n2. **Consulta a un profesional**: Considera hablar con un nutricionista o un entrenador personalizado. Un profesional puede ayudarte a crear un plan de alimentación y ejercicio que se adapte a tus necesidades individuales, objetivos y niveles de condición física.\\n\\n3. **Alimentación balanceada**: Asegúrate de consumir una dieta equilibrada rica en frutas, verduras, granos integrales y proteínas magras. Evita los alimentos procesados y additivos que pueden llevar a problemas de salud relacionados con la alimentación.\\n\\n4. **Hidrátate adecuadamente**: El agua es esencial para el funcionamiento del cuerpo. Asegúrate de beber al menos 8-10 vasos de agua al día, especialmente antes, durante y después de las actividades físicas.\\n\\n5. **Encoraja el ejercicio físico regular**: El ejercicio no solo mejora tu salud general, sino que también puede ayudarte a construir músculo y aumentar tu metabolismo. Encuentra un estilo de ejercicio que disfrutes, ya sea correr, nadar, hacer senderismo o cualquier otro actividad que te mantenga motivado.\\n\\n6. **Incluye entrenamiento físico de fuerza**: El entrenamiento de fuerza puede ayudarte a construir músculo y aumentar tu metabolismo. Esto puede ser especialmente útil para aquellos que buscan mejorar su forma física general o superar obstáculos específicos, como la flexibilidad limitada o problemas musculares.\\n\\n7. **Duerme lo suficiente**: La falta de sueño puede afectar negativamente el rendimiento físico y el bienestar general. Asegúrate de dormir entre 7-9 horas al noche para mejorar tu salud física en general.\\n\\n8. **Gestiona el estrés**: El estrés crónico puede llevar a problemas de salud relacionados con la alimentación y el ejercicio. Encuentra maneras de manejar el estrés, como la meditación, el yoga o la caminata.\\n\\n9. **Mantente motivado**: Reconoce tus logros y celebra los pequeños éxitos en tu camino hacia una mejor salud. A veces, la perseverancia es clave para superar obstáculos y mantener un compromiso con un objetivo a largo plazo.\\n\\n10. **Sé paciente y consistente**: Construir un cuerpo saludable lleva tiempo y esfuerzo. Sé paciente contigo mismo y mantén una actitud positiva en relación con tus progresos.\\n\\nRecuerda que la salud y el bienestar son constantes proceso, y lo importante es hacerlo de manera sostenible a largo plazo.', additional_kwargs={}, response_metadata={'model': 'hf.co/bartowski/Llama-3.2-1B-Instruct-GGUF:Q4_0', 'created_at': '2025-02-08T15:17:52.0605356Z', 'done': True, 'done_reason': 'stop', 'total_duration': 7138662100, 'load_duration': 27000200, 'prompt_eval_count': 19, 'prompt_eval_duration': 5000000, 'eval_count': 677, 'eval_duration': 7105000000, 'message': Message(role='assistant', content='', images=None, tool_calls=None)}, id='run-37d782f1-1d0e-4fe8-9ba5-3d569caf2369-0', usage_metadata={'input_tokens': 19, 'output_tokens': 677, 'total_tokens': 696})"
      ]
     },
     "execution_count": 2,
     "metadata": {},
     "output_type": "execute_result"
    }
   ],
   "execution_count": 2
  },
  {
   "metadata": {},
   "cell_type": "code",
   "source": [
    "from langchain_huggingface import HuggingFaceEmbeddings\n",
    "embeddings = HuggingFaceEmbeddings(model_name=\"sentence-transformers/all-mpnet-base-v2\")"
   ],
   "id": "531e15b6e4505080",
   "outputs": [],
   "execution_count": null
  }
 ],
 "metadata": {
  "kernelspec": {
   "display_name": "Python 3",
   "language": "python",
   "name": "python3"
  },
  "language_info": {
   "codemirror_mode": {
    "name": "ipython",
    "version": 2
   },
   "file_extension": ".py",
   "mimetype": "text/x-python",
   "name": "python",
   "nbconvert_exporter": "python",
   "pygments_lexer": "ipython2",
   "version": "2.7.6"
  }
 },
 "nbformat": 4,
 "nbformat_minor": 5
}
