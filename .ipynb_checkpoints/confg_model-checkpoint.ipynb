{
 "cells": [
  {
   "metadata": {},
   "cell_type": "code",
   "source": [
    "from langchain_ollama import ChatOllama\n",
    "\n",
    "llm = ChatOllama(model=\"hf.co/bartowski/Meta-Llama-3.1-8B-Instruct-GGUF:IQ4_NL\")\n",
    "\n",
    "llm.invoke(\"Cual es mayor 9.11 o 9.9 y porque?\")"
   ],
   "id": "fb732d457988e8d4",
   "outputs": [],
   "execution_count": null
  },
  {
   "metadata": {},
   "cell_type": "code",
   "source": [
    "from langchain_huggingface import HuggingFaceEmbeddings\n",
    "embeddings = HuggingFaceEmbeddings(model_name=\"sentence-transformers/all-mpnet-base-v2\")"
   ],
   "id": "531e15b6e4505080",
   "outputs": [],
   "execution_count": null
  },
  {
   "metadata": {},
   "cell_type": "code",
   "source": [
    "import torch\n",
    "\n",
    "# Verificar si PyTorch está utilizando la CPU\n",
    "print(\"PyTorch está utilizando:\", \"CPU\" if not torch.cuda.is_available() else \"GPU\")\n",
    "\n",
    "# Verificar el dispositivo del modelo\n",
    "print(\"Dispositivo del modelo:\", \"CPU\" if embeddings.client.device.type == \"cpu\" else \"GPU\")"
   ],
   "id": "afa05b2f3750f48f",
   "outputs": [],
   "execution_count": null
  }
 ],
 "metadata": {
  "kernelspec": {
   "display_name": "Python 3",
   "language": "python",
   "name": "python3"
  },
  "language_info": {
   "codemirror_mode": {
    "name": "ipython",
    "version": 2
   },
   "file_extension": ".py",
   "mimetype": "text/x-python",
   "name": "python",
   "nbconvert_exporter": "python",
   "pygments_lexer": "ipython2",
   "version": "2.7.6"
  }
 },
 "nbformat": 4,
 "nbformat_minor": 5
}
