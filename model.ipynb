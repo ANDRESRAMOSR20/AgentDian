{
 "cells": [
  {
   "metadata": {
    "ExecuteTime": {
     "end_time": "2025-02-01T15:46:08.953782Z",
     "start_time": "2025-02-01T15:38:54.389602Z"
    }
   },
   "cell_type": "code",
   "source": [
    "# Use a pipeline as a high-level helper\n",
    "from transformers import pipeline\n",
    "\n",
    "messages = [\n",
    "    {\"role\": \"user\", \"content\": \"Who are you?\"},\n",
    "]\n",
    "pipe = pipeline(\"text-generation\", model=\"unsloth/Llama-3.2-1B-Instruct\")\n",
    "pipe(messages)"
   ],
   "id": "e37ec27e9aebd55a",
   "outputs": [
    {
     "data": {
      "text/plain": [
       "config.json:   0%|          | 0.00/944 [00:00<?, ?B/s]"
      ],
      "application/vnd.jupyter.widget-view+json": {
       "version_major": 2,
       "version_minor": 0,
       "model_id": "7e812bb3afef48c083d6c83cdaeff00f"
      }
     },
     "metadata": {},
     "output_type": "display_data"
    },
    {
     "data": {
      "text/plain": [
       "model.safetensors:   0%|          | 0.00/2.47G [00:00<?, ?B/s]"
      ],
      "application/vnd.jupyter.widget-view+json": {
       "version_major": 2,
       "version_minor": 0,
       "model_id": "a0343bf09e314e14af50572138f32ca3"
      }
     },
     "metadata": {},
     "output_type": "display_data"
    },
    {
     "data": {
      "text/plain": [
       "generation_config.json:   0%|          | 0.00/234 [00:00<?, ?B/s]"
      ],
      "application/vnd.jupyter.widget-view+json": {
       "version_major": 2,
       "version_minor": 0,
       "model_id": "435283ad7e60439a956b3337f0da040b"
      }
     },
     "metadata": {},
     "output_type": "display_data"
    },
    {
     "data": {
      "text/plain": [
       "tokenizer_config.json:   0%|          | 0.00/54.7k [00:00<?, ?B/s]"
      ],
      "application/vnd.jupyter.widget-view+json": {
       "version_major": 2,
       "version_minor": 0,
       "model_id": "93df508eb98d41da989b5542b0e11f0b"
      }
     },
     "metadata": {},
     "output_type": "display_data"
    },
    {
     "data": {
      "text/plain": [
       "tokenizer.json:   0%|          | 0.00/17.2M [00:00<?, ?B/s]"
      ],
      "application/vnd.jupyter.widget-view+json": {
       "version_major": 2,
       "version_minor": 0,
       "model_id": "778a1a7f0aaf438b898fd9e303128c8d"
      }
     },
     "metadata": {},
     "output_type": "display_data"
    },
    {
     "data": {
      "text/plain": [
       "special_tokens_map.json:   0%|          | 0.00/454 [00:00<?, ?B/s]"
      ],
      "application/vnd.jupyter.widget-view+json": {
       "version_major": 2,
       "version_minor": 0,
       "model_id": "e04f909474aa46dbbd654e2da1deb591"
      }
     },
     "metadata": {},
     "output_type": "display_data"
    },
    {
     "name": "stderr",
     "output_type": "stream",
     "text": [
      "Device set to use cuda:0\n",
      "D:\\PythonProject\\deep_transformer\\.venv\\Lib\\site-packages\\transformers\\integrations\\sdpa_attention.py:53: UserWarning: 1Torch was not compiled with flash attention. (Triggered internally at C:\\actions-runner\\_work\\pytorch\\pytorch\\builder\\windows\\pytorch\\aten\\src\\ATen\\native\\transformers\\cuda\\sdp_utils.cpp:555.)\n",
      "  attn_output = torch.nn.functional.scaled_dot_product_attention(\n"
     ]
    },
    {
     "data": {
      "text/plain": [
       "[{'generated_text': [{'role': 'user', 'content': 'Who are you?'},\n",
       "   {'role': 'assistant',\n",
       "    'content': 'I\\'m an artificial intelligence model known as Llama. Llama stands for \"Large Language Model Meta AI.\"'}]}]"
      ]
     },
     "execution_count": 1,
     "metadata": {},
     "output_type": "execute_result"
    }
   ],
   "execution_count": 1
  },
  {
   "metadata": {
    "ExecuteTime": {
     "end_time": "2025-02-01T15:49:35.366923Z",
     "start_time": "2025-02-01T15:49:35.351501Z"
    }
   },
   "cell_type": "code",
   "source": [
    "import torch\n",
    "print(torch.cuda.is_available())  # Debe devolver True\n",
    "print(torch.cuda.current_device())  # Debe devolver 0 (o el índice de tu GPU)\n",
    "print(torch.cuda.get_device_name(0))  # Debe mostrar el nombre de tu GPU"
   ],
   "id": "6cf8c0b308e53801",
   "outputs": [
    {
     "name": "stdout",
     "output_type": "stream",
     "text": [
      "True\n",
      "0\n",
      "NVIDIA GeForce GTX 1650\n"
     ]
    }
   ],
   "execution_count": 2
  },
  {
   "metadata": {
    "ExecuteTime": {
     "end_time": "2025-02-01T16:34:43.011378Z",
     "start_time": "2025-02-01T16:33:19.383041Z"
    }
   },
   "cell_type": "code",
   "source": [
    "from transformers import pipeline\n",
    "\n",
    "# Cargar el pipeline para generación de texto\n",
    "pipe = pipeline(\"text-generation\", model=\"unsloth/Llama-3.2-1B-Instruct\")\n",
    "\n",
    "# Definir los mensajes en el formato adecuado\n",
    "messages = [\n",
    "    {\"role\": \"user\", \"content\": \"cual es el pais con PBI mas bajo de america latina?\"},\n",
    "]\n",
    "\n",
    "# Realizar la inferencia\n",
    "response = pipe(messages)\n",
    "\n",
    "# Mostrar la respuesta generada\n",
    "print(response)"
   ],
   "id": "f540e4da2b238dc1",
   "outputs": [
    {
     "name": "stderr",
     "output_type": "stream",
     "text": [
      "Device set to use cuda:0\n"
     ]
    },
    {
     "name": "stdout",
     "output_type": "stream",
     "text": [
      "[{'generated_text': [{'role': 'user', 'content': 'cual es el pais con PBI mas bajo de america latina?'}, {'role': 'assistant', 'content': 'Según los datos de la Organización de las Naciones Unidas para la Educación, la Ciencia y el Desarrollo (UNESCO) y la Organización de las Naciones Económicas (OECD), el país con PIB (Producción Interna Bruta) más bajo en América Latina es Nicaragua.\\n\\nSegún los datos de la PIB de América Latina y el Caribe (PILC) de 2021, Nicaragua tiene un PIB de $12.240 millones, lo que lo coloca en el 10.º lugar de la región.\\n\\nAquí te presento los rankings de PIB por país en América Latina y el Caribe:\\n\\n1. Nicaragua - $12.240 millones\\n2. El Salvador - $24.310 millones\\n3. Honduras - $23.240 millones\\n4. Guatemala - $15.440 millones\\n5. Costa Rica - $64.330 millones\\n6. Panamá - $34.440 millones\\n7. Venezuela - $133.440 millones\\n8. Colombia - $245.440 millones\\n9. Ecuador - $122.440 millones\\n10. Chile - $2.354.440 millones\\n\\nEs importante destacar que estos rankings pueden variar de un año a otro y pueden dependen de factores como la economía, la política y la situación social.\\n\\nEs importante mencionar que Nicaragua tiene una economía en constante evolución y que hay algunas preocupaciones sobre la situación económica del país, incluyendo la alta inflación, la escasez de alimentos y la corrupción.'}]}]\n"
     ]
    }
   ],
   "execution_count": 6
  }
 ],
 "metadata": {
  "kernelspec": {
   "display_name": "Python 3",
   "language": "python",
   "name": "python3"
  },
  "language_info": {
   "codemirror_mode": {
    "name": "ipython",
    "version": 2
   },
   "file_extension": ".py",
   "mimetype": "text/x-python",
   "name": "python",
   "nbconvert_exporter": "python",
   "pygments_lexer": "ipython2",
   "version": "2.7.6"
  }
 },
 "nbformat": 4,
 "nbformat_minor": 5
}
